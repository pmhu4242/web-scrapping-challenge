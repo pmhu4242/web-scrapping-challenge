{
 "cells": [
  {
   "cell_type": "code",
   "execution_count": 134,
   "metadata": {},
   "outputs": [],
   "source": [
    "from splinter import Browser\n",
    "from bs4 import BeautifulSoup as bs\n",
    "import time\n",
    "from webdriver_manager.chrome import ChromeDriverManager"
   ]
  },
  {
   "cell_type": "code",
   "execution_count": 140,
   "metadata": {},
   "outputs": [
    {
     "name": "stderr",
     "output_type": "stream",
     "text": [
      "[WDM] - Current google-chrome version is 86.0.4240\n",
      "[WDM] - Get LATEST driver version for 86.0.4240\n",
      "[WDM] - Driver [C:\\Users\\pmhu4\\.wdm\\drivers\\chromedriver\\win32\\86.0.4240.22\\chromedriver.exe] found in cache\n"
     ]
    },
    {
     "name": "stdout",
     "output_type": "stream",
     "text": [
      " \n"
     ]
    }
   ],
   "source": [
    "executable_path = {\"executable_path\": ChromeDriverManager().install()}\n",
    "browser = Browser(\"chrome\", **executable_path, headless=False)"
   ]
  },
  {
   "cell_type": "code",
   "execution_count": 141,
   "metadata": {},
   "outputs": [],
   "source": [
    "url = \"https://mars.nasa.gov/news/?page=0&per_page=40&order=publish_date+desc%2Ccreated_at+desc&search=&category=19%2C165%2C184%2C204&blank_scope=Latest\"\n",
    "browser.visit(url)"
   ]
  },
  {
   "cell_type": "code",
   "execution_count": 142,
   "metadata": {},
   "outputs": [],
   "source": [
    "soup = bs(browser.html, 'html.parser')"
   ]
  },
  {
   "cell_type": "code",
   "execution_count": 144,
   "metadata": {
    "scrolled": true
   },
   "outputs": [
    {
     "name": "stdout",
     "output_type": "stream",
     "text": [
      "[<h3 class=\"mission_title\"><span>Mars 2020 Perseverance Rover</span></h3>, <h3 class=\"mission_title\"><span>Curiosity Rover</span></h3>, <h3 class=\"mission_title\"><span>InSight Lander</span></h3>, <h3 class=\"mission_title\"><span>MAVEN</span></h3>, <h3 class=\"mission_title\"><span>Mars Reconnaissance Orbiter</span></h3>, <h3 class=\"mission_title\"><span>2001 Mars Odyssey</span></h3>, <h3>MOXIE Could Help Future Rockets Launch Off Mars</h3>, <h3>Hear Audio From NASA's Perseverance As It Travels Through Deep Space</h3>, <h3>Mars Is Getting a New Robotic Meteorologist</h3>, <h3>Heat and Dust Help Launch Martian Water Into Space, Scientists Find</h3>, <h3>NASA's Curiosity Takes Selfie With 'Mary Anning' on the Red Planet</h3>, <h3>Independent Review Indicates NASA Prepared for Mars Sample Return Campaign</h3>, <h3>NASA's Perseverance Rover 100 Days Out</h3>, <h3>NASA's Perseverance Rover Is Midway to Mars </h3>, <h3>Sensors on Mars 2020 Spacecraft Answer Long-Distance Call From Earth</h3>, <h3>NASA's Perseverance Rover Bringing 3D-Printed Metal Parts to Mars</h3>, <h3>NASA InSight's 'Mole' Is Out of Sight</h3>, <h3>NASA's Perseverance Rover Will Peer Beneath Mars' Surface </h3>, <h3>AI Is Helping Scientists Discover Fresh Craters on Mars</h3>, <h3>NASA's New Mars Rover Is Ready for Space Lasers</h3>, <h3>NASA's New Mars Rover Will Use X-Rays to Hunt Fossils</h3>, <h3>My Culture, My Voice</h3>, <h3>NASA Readies Perseverance Mars Rover's Earthly Twin </h3>, <h3>NASA Engineers Checking InSight's Weather Sensors</h3>, <h3>Follow NASA's Perseverance Rover in Real Time on Its Way to Mars</h3>, <h3>NASA Establishes Board to Initially Review Mars Sample Return Plans</h3>, <h3>NASA's Ingenuity Mars Helicopter Recharges Its Batteries in Flight</h3>, <h3>Celebrate Mars Reconnaissance Orbiter's Views From Above</h3>, <h3>NASA's MAVEN Observes Martian Night Sky Pulsing in Ultraviolet Light</h3>, <h3>8 Martian Postcards to Celebrate Curiosity's Landing Anniversary</h3>, <h3>NASA, ULA Launch Mars 2020 Perseverance Rover Mission to Red Planet</h3>, <h3>NASA's Perseverance Rover Will Carry First Spacesuit Materials to Mars</h3>, <h3>A New Video Captures the Science of NASA's Perseverance Mars Rover</h3>, <h3>NASA Invites Public to Share Excitement of Mars 2020 Perseverance Rover Launch</h3>, <h3>NASA's Mars Perseverance Rover Passes Flight Readiness Review</h3>, <h3>NASA to Broadcast Mars 2020 Perseverance Launch, Prelaunch Activities</h3>, <h3>6 Things to Know About NASA's Ingenuity Mars Helicopter</h3>, <h3>Join NASA for the Launch of the Mars 2020 Perseverance Rover</h3>, <h3>NASA's Perseverance Rover Attached to Atlas V Rocket</h3>, <h3>7 Things to Know About the Mars 2020 Perseverance Rover Mission</h3>, <h3>NASA's InSight Flexes Its Arm While Its 'Mole' Hits Pause</h3>, <h3>Curiosity Mars Rover's Summer Road Trip Has Begun</h3>, <h3>How NASA's Mars Helicopter Will Reach the Red Planet's Surface</h3>, <h3>The Launch Is Approaching for NASA's Next Mars Rover, Perseverance</h3>, <h3>NASA to Hold Mars 2020 Perseverance Rover Launch Briefing</h3>, <h3>While Stargazing on Mars, NASA's Curiosity Rover Spots Earth and Venus</h3>, <h3 class=\"sitemap_title\">\n",
      "<a href=\"/#red_planet\">The Red Planet</a>\n",
      "</h3>, <h3 class=\"sitemap_title\">\n",
      "<a href=\"/#mars_exploration_program\">The Program</a>\n",
      "</h3>, <h3 class=\"sitemap_title\">\n",
      "<a href=\"/#news_and_events\">News &amp; Events</a>\n",
      "</h3>, <h3 class=\"sitemap_title\">\n",
      "<a href=\"/#multimedia\">Multimedia</a>\n",
      "</h3>, <h3 class=\"sitemap_title\">\n",
      "<a href=\"/#missions_gallery_subnav\">Missions</a>\n",
      "</h3>, <h3 class=\"sitemap_title\">\n",
      "<a href=\"/#more\">More</a>\n",
      "</h3>]\n"
     ]
    }
   ],
   "source": [
    "headline = soup.find_all('h3')\n",
    "print(headline)"
   ]
  },
  {
   "cell_type": "code",
   "execution_count": null,
   "metadata": {},
   "outputs": [],
   "source": []
  },
  {
   "cell_type": "code",
   "execution_count": null,
   "metadata": {},
   "outputs": [],
   "source": []
  }
 ],
 "metadata": {
  "kernelspec": {
   "display_name": "Python [conda env:PythonData]",
   "language": "python",
   "name": "conda-env-PythonData-py"
  },
  "language_info": {
   "codemirror_mode": {
    "name": "ipython",
    "version": 3
   },
   "file_extension": ".py",
   "mimetype": "text/x-python",
   "name": "python",
   "nbconvert_exporter": "python",
   "pygments_lexer": "ipython3",
   "version": "3.6.10"
  }
 },
 "nbformat": 4,
 "nbformat_minor": 4
}
